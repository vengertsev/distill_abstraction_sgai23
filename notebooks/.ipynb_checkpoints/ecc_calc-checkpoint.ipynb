{
 "cells": [
  {
   "cell_type": "code",
   "execution_count": 63,
   "id": "a2303aed",
   "metadata": {},
   "outputs": [],
   "source": [
    "import pandas as pd\n",
    "import numpy as np\n",
    "\n",
    "import torch\n",
    "import matplotlib.pyplot as plt"
   ]
  },
  {
   "cell_type": "code",
   "execution_count": 3,
   "id": "e99234f3",
   "metadata": {},
   "outputs": [],
   "source": [
    "n_bins=10"
   ]
  },
  {
   "cell_type": "code",
   "execution_count": 6,
   "id": "81b163e3",
   "metadata": {},
   "outputs": [
    {
     "data": {
      "text/html": [
       "<div>\n",
       "<style scoped>\n",
       "    .dataframe tbody tr th:only-of-type {\n",
       "        vertical-align: middle;\n",
       "    }\n",
       "\n",
       "    .dataframe tbody tr th {\n",
       "        vertical-align: top;\n",
       "    }\n",
       "\n",
       "    .dataframe thead th {\n",
       "        text-align: right;\n",
       "    }\n",
       "</style>\n",
       "<table border=\"1\" class=\"dataframe\">\n",
       "  <thead>\n",
       "    <tr style=\"text-align: right;\">\n",
       "      <th></th>\n",
       "      <th>pred</th>\n",
       "      <th>p0</th>\n",
       "      <th>p1</th>\n",
       "      <th>label</th>\n",
       "    </tr>\n",
       "  </thead>\n",
       "  <tbody>\n",
       "    <tr>\n",
       "      <th>0</th>\n",
       "      <td>1</td>\n",
       "      <td>0.293524</td>\n",
       "      <td>0.706476</td>\n",
       "      <td>1</td>\n",
       "    </tr>\n",
       "    <tr>\n",
       "      <th>1</th>\n",
       "      <td>0</td>\n",
       "      <td>0.529509</td>\n",
       "      <td>0.470491</td>\n",
       "      <td>0</td>\n",
       "    </tr>\n",
       "    <tr>\n",
       "      <th>2</th>\n",
       "      <td>1</td>\n",
       "      <td>0.496881</td>\n",
       "      <td>0.503119</td>\n",
       "      <td>0</td>\n",
       "    </tr>\n",
       "    <tr>\n",
       "      <th>3</th>\n",
       "      <td>0</td>\n",
       "      <td>0.577542</td>\n",
       "      <td>0.422458</td>\n",
       "      <td>0</td>\n",
       "    </tr>\n",
       "    <tr>\n",
       "      <th>4</th>\n",
       "      <td>1</td>\n",
       "      <td>0.283833</td>\n",
       "      <td>0.716167</td>\n",
       "      <td>1</td>\n",
       "    </tr>\n",
       "  </tbody>\n",
       "</table>\n",
       "</div>"
      ],
      "text/plain": [
       "   pred        p0        p1  label\n",
       "0     1  0.293524  0.706476      1\n",
       "1     0  0.529509  0.470491      0\n",
       "2     1  0.496881  0.503119      0\n",
       "3     0  0.577542  0.422458      0\n",
       "4     1  0.283833  0.716167      1"
      ]
     },
     "execution_count": 6,
     "metadata": {},
     "output_type": "execute_result"
    }
   ],
   "source": [
    "df.head()"
   ]
  },
  {
   "cell_type": "code",
   "execution_count": 84,
   "id": "68fd6a1f",
   "metadata": {},
   "outputs": [],
   "source": [
    "filename = '/home/venger/phd/distill_abstraction/eval_results/TinyBERT_4L_312D_3ep_stg1_2_aug/RTE_on_train/eval_results.csv'\n",
    "df = pd.read_csv(filename)\n",
    "confidence_class0 = df.p0\n",
    "confidence_class1 = df.p1\n",
    "\n",
    "predictions_class0 = pd.Series(np.zeros(confidence_class0.shape))\n",
    "predictions_class1 = pd.Series(np.ones(confidence_class1.shape))\n",
    "\n",
    "accuracies_class0 = predictions_class0==df.label\n",
    "accuracies_class1 = predictions_class1==df.label"
   ]
  },
  {
   "cell_type": "code",
   "execution_count": 85,
   "id": "dc602bb5",
   "metadata": {},
   "outputs": [
    {
     "data": {
      "text/plain": [
       "0       0.293524\n",
       "1       0.529509\n",
       "2       0.496881\n",
       "3       0.577542\n",
       "4       0.283833\n",
       "          ...   \n",
       "2485    0.336374\n",
       "2486    0.547314\n",
       "2487    0.125851\n",
       "2488    0.633075\n",
       "2489    0.380149\n",
       "Name: p0, Length: 2490, dtype: float64"
      ]
     },
     "execution_count": 85,
     "metadata": {},
     "output_type": "execute_result"
    }
   ],
   "source": [
    "confidence_class0"
   ]
  },
  {
   "cell_type": "code",
   "execution_count": 86,
   "id": "32d4a37b",
   "metadata": {},
   "outputs": [
    {
     "data": {
      "text/plain": [
       "0       0.0\n",
       "1       0.0\n",
       "2       0.0\n",
       "3       0.0\n",
       "4       0.0\n",
       "       ... \n",
       "2485    0.0\n",
       "2486    0.0\n",
       "2487    0.0\n",
       "2488    0.0\n",
       "2489    0.0\n",
       "Length: 2490, dtype: float64"
      ]
     },
     "execution_count": 86,
     "metadata": {},
     "output_type": "execute_result"
    }
   ],
   "source": [
    "predictions_class0"
   ]
  },
  {
   "cell_type": "code",
   "execution_count": 87,
   "id": "34f45617",
   "metadata": {},
   "outputs": [
    {
     "data": {
      "text/plain": [
       "0       False\n",
       "1        True\n",
       "2        True\n",
       "3        True\n",
       "4       False\n",
       "        ...  \n",
       "2485    False\n",
       "2486     True\n",
       "2487    False\n",
       "2488     True\n",
       "2489    False\n",
       "Length: 2490, dtype: bool"
      ]
     },
     "execution_count": 87,
     "metadata": {},
     "output_type": "execute_result"
    }
   ],
   "source": [
    "accuracies_class0"
   ]
  },
  {
   "cell_type": "code",
   "execution_count": 97,
   "id": "afc1ecdb",
   "metadata": {},
   "outputs": [],
   "source": [
    "def ece_calc(filename, n_bins=10):\n",
    "    ece = 0\n",
    "    avg_confidence_in_bin_list = []\n",
    "    accuracy_in_bin_list = []\n",
    "    bin_boundaries = torch.linspace(0, 1, n_bins + 1)\n",
    "    \n",
    "    df = pd.read_csv(filename)\n",
    "    confidence_class0 = df.p0\n",
    "    confidence_class1 = df.p1\n",
    "\n",
    "    predictions_class0 = pd.Series(np.zeros(confidence_class0.shape))\n",
    "    predictions_class1 = pd.Series(np.ones(confidence_class1.shape))\n",
    "    \n",
    "    accuracies_class0 = predictions_class0==df.label\n",
    "    accuracies_class1 = predictions_class1==df.label\n",
    "    \n",
    "    \n",
    "    accuracies = pd.concat([accuracies_class0, accuracies_class1])\n",
    "    confidences = pd.concat([confidence_class0, confidence_class1])\n",
    "    predictions = pd.concat([predictions_class0, predictions_class1])\n",
    "    \n",
    "    for bin_lower, bin_upper in zip(bin_lowers, bin_uppers):\n",
    "        # Calculated |confidence - accuracy| in each bin\n",
    "        in_bin = confidences.gt(bin_lower.item()) * confidences.le(bin_upper.item())\n",
    "        prop_in_bin = in_bin.mean()\n",
    "    #     print(f\"upper = {bin_lower.item()}, lowe={bin_upper.item()}\")\n",
    "    #     print(prop_in_bin)\n",
    "        if prop_in_bin > 0:\n",
    "            accuracy_in_bin = accuracies[in_bin].mean()\n",
    "            avg_confidence_in_bin = confidences[in_bin].mean()\n",
    "            ece += np.abs(avg_confidence_in_bin - accuracy_in_bin) * prop_in_bin\n",
    "            avg_confidence_in_bin_list.append(avg_confidence_in_bin)\n",
    "            accuracy_in_bin_list.append(accuracy_in_bin)\n",
    "    filename_str = '/'.join(filename.split('/')[6:])\n",
    "    print(f'{filename_str}: {ece}')\n",
    "#     plt.plot(avg_confidence_in_bin_list, accuracy_in_bin_list)\n",
    "#     plt.show()\n",
    "    return ece"
   ]
  },
  {
   "cell_type": "code",
   "execution_count": 98,
   "id": "fa60c9bd",
   "metadata": {},
   "outputs": [
    {
     "name": "stdout",
     "output_type": "stream",
     "text": [
      "TinyBERT_4L_312D_3ep_stg1_2_aug/RTE_on_train/eval_results.csv: 0.19631867448249496\n"
     ]
    },
    {
     "data": {
      "text/plain": [
       "0.19631867448249496"
      ]
     },
     "execution_count": 98,
     "metadata": {},
     "output_type": "execute_result"
    }
   ],
   "source": [
    "ece_calc('/home/venger/phd/distill_abstraction/eval_results/TinyBERT_4L_312D_3ep_stg1_2_aug/RTE_on_train/eval_results.csv')\n"
   ]
  },
  {
   "cell_type": "code",
   "execution_count": 52,
   "id": "3ef99dd9",
   "metadata": {},
   "outputs": [],
   "source": [
    "mypath='/home/venger/phd/distill_abstraction/_eval_output/'"
   ]
  },
  {
   "cell_type": "code",
   "execution_count": 55,
   "id": "db9aa692",
   "metadata": {},
   "outputs": [],
   "source": [
    "eval_files_list = []\n",
    "import os\n",
    "for path, subdirs, files in os.walk(mypath):\n",
    "    for name in files:\n",
    "        eval_files_list.append(os.path.join(path, name))"
   ]
  },
  {
   "cell_type": "code",
   "execution_count": 56,
   "id": "8bdf812c",
   "metadata": {},
   "outputs": [
    {
     "data": {
      "text/plain": [
       "68"
      ]
     },
     "execution_count": 56,
     "metadata": {},
     "output_type": "execute_result"
    }
   ],
   "source": [
    "len(eval_files_list)"
   ]
  },
  {
   "cell_type": "code",
   "execution_count": 103,
   "id": "615f96de",
   "metadata": {},
   "outputs": [
    {
     "name": "stdout",
     "output_type": "stream",
     "text": [
      "TinyBERT_4L_312D/MRPC_on_eval/eval_results.csv: 0.06750392343255057\n",
      "TinyBERT_4L_312D/MRPC_on_train/eval_results.csv: 0.03225903768364582\n",
      "TinyBERT_4L_312D/QNLI_on_eval/eval_results.csv: 0.030799476136938446\n",
      "TinyBERT_4L_312D/QNLI_on_train/eval_results.csv: 0.0716964737504747\n",
      "TinyBERT_4L_312D/QQP_on_eval/eval_results.csv: 0.033393559811102154\n",
      "TinyBERT_4L_312D/QQP_on_train/eval_results.csv: 0.05908404057743728\n",
      "TinyBERT_4L_312D/RTE_on_eval/eval_results.csv: 0.07148856079266386\n",
      "TinyBERT_4L_312D/RTE_on_train/eval_results.csv: 0.19631867448249496\n",
      "TinyBERT_4L_312D/SST-2_on_eval/eval_results.csv: 0.03269756280970888\n",
      "TinyBERT_4L_312D/SST-2_on_train/eval_results.csv: 0.032851098128999265\n",
      "TinyBERT_6L_768D/MRPC_on_eval/eval_results.csv: 0.06191296977739706\n",
      "TinyBERT_6L_768D/MRPC_on_train/eval_results.csv: 0.026747637141938743\n",
      "TinyBERT_6L_768D/QNLI_on_eval/eval_results.csv: 0.06347395321833312\n",
      "TinyBERT_6L_768D/QNLI_on_train/eval_results.csv: 0.09524026364832101\n",
      "TinyBERT_6L_768D/QQP_on_eval/eval_results.csv: 0.03678322806965325\n",
      "TinyBERT_6L_768D/QQP_on_train/eval_results.csv: 0.07013003602972295\n",
      "TinyBERT_6L_768D/RTE_on_eval/eval_results.csv: 0.09557696103726915\n",
      "TinyBERT_6L_768D/RTE_on_train/eval_results.csv: 0.19601645548510024\n",
      "TinyBERT_6L_768D/SST-2_on_eval/eval_results.csv: 0.022631487987482667\n",
      "TinyBERT_6L_768D/SST-2_on_train/eval_results.csv: 0.03479054446944985\n",
      "bert-base-uncased-QNLI/QNLI_on_eval/eval_results.csv: 0.04794498484373041\n",
      "bert-base-uncased-QNLI/QNLI_on_train/eval_results.csv: 0.09318473490888263\n",
      "bert-base-uncased-QQP/QQP_on_eval/eval_results.csv: 0.02697956595400421\n",
      "bert-base-uncased-QQP/QQP_on_train/eval_results.csv: 0.07431027747194874\n",
      "bert-base-uncased-finetuned-mrpc/MRPC_on_eval/eval_results.csv: 0.08599938034061708\n",
      "bert-base-uncased-finetuned-mrpc/MRPC_on_train/eval_results.csv: 0.02393772631412374\n",
      "bert-base-uncased-finetuned-sst2/SST-2_on_eval/eval_results.csv: 0.01571511078215793\n",
      "bert-base-uncased-finetuned-sst2/SST-2_on_train/eval_results.csv: 0.03595786977479373\n",
      "bert-base-uncased-rte/RTE_on_eval/eval_results.csv: 0.08964505530759317\n",
      "bert-base-uncased-rte/RTE_on_train/eval_results.csv: 0.22111614847249053\n"
     ]
    }
   ],
   "source": [
    "for file in sorted(eval_files_list):\n",
    "    if 'K/' not in file and 'traintest' not in file:\n",
    "        ece_calc(file)"
   ]
  },
  {
   "cell_type": "code",
   "execution_count": null,
   "id": "04f2c19e",
   "metadata": {},
   "outputs": [],
   "source": [
    "# Distillation preserves ECE, but again ece looks at the whole distribution"
   ]
  },
  {
   "cell_type": "code",
   "execution_count": null,
   "id": "ecec9337",
   "metadata": {},
   "outputs": [],
   "source": []
  },
  {
   "cell_type": "code",
   "execution_count": null,
   "id": "b8110455",
   "metadata": {},
   "outputs": [],
   "source": []
  },
  {
   "cell_type": "code",
   "execution_count": null,
   "id": "faa5b5b5",
   "metadata": {},
   "outputs": [],
   "source": []
  },
  {
   "cell_type": "code",
   "execution_count": null,
   "id": "d61b60de",
   "metadata": {},
   "outputs": [],
   "source": []
  },
  {
   "cell_type": "code",
   "execution_count": null,
   "id": "2f51faca",
   "metadata": {},
   "outputs": [],
   "source": []
  },
  {
   "cell_type": "markdown",
   "id": "ab0d658e",
   "metadata": {},
   "source": [
    "## Old stuff"
   ]
  },
  {
   "cell_type": "code",
   "execution_count": 4,
   "id": "07113e5a",
   "metadata": {},
   "outputs": [],
   "source": [
    "bin_boundaries = torch.linspace(0, 1, n_bins + 1)"
   ]
  },
  {
   "cell_type": "code",
   "execution_count": 5,
   "id": "743d0fe8",
   "metadata": {},
   "outputs": [],
   "source": [
    "df = pd.read_csv('/home/venger/phd/distill_abstraction/eval_results/TinyBERT_4L_312D_3ep_stg1_2_aug/RTE_on_train/eval_results.csv')"
   ]
  },
  {
   "cell_type": "code",
   "execution_count": 7,
   "id": "f064d816",
   "metadata": {},
   "outputs": [
    {
     "data": {
      "text/plain": [
       "'Overall accuracy 0.8441767068273093'"
      ]
     },
     "metadata": {},
     "output_type": "display_data"
    }
   ],
   "source": [
    "accuracy = sum(df.pred==df.label)/df.shape[0]\n",
    "display(f'Overall accuracy {accuracy}')"
   ]
  },
  {
   "cell_type": "code",
   "execution_count": 8,
   "id": "94f99b9c",
   "metadata": {},
   "outputs": [],
   "source": [
    "# need to stack since we want to know the confidence of the wrong predictions \n",
    "# ignore 'pred' column\n",
    "# TODO: in the results creation do not save pred \n",
    "\n",
    "confidence_class0 = df.p0\n",
    "confidence_class1 = df.p1\n",
    "\n",
    "accuracies_class0 = df.pred==df.label\n",
    "accuracies_class1 = df.pred==df.label\n",
    "\n",
    "predictions_class0 = df.p0 > 0.5\n",
    "predictions_class1 = df.p1 > 0.5"
   ]
  },
  {
   "cell_type": "code",
   "execution_count": 17,
   "id": "0cb776c5",
   "metadata": {},
   "outputs": [],
   "source": [
    "accuracies = pd.concat([accuracies_class0, accuracies_class1])\n",
    "confidences = pd.concat([confidence_class0, confidence_class1])\n",
    "predictions = pd.concat([predictions_class0, predictions_class1])"
   ]
  },
  {
   "cell_type": "code",
   "execution_count": 10,
   "id": "1d5ff8a7",
   "metadata": {},
   "outputs": [
    {
     "data": {
      "text/plain": [
       "0       False\n",
       "1        True\n",
       "2       False\n",
       "3        True\n",
       "4       False\n",
       "        ...  \n",
       "2485     True\n",
       "2486    False\n",
       "2487     True\n",
       "2488    False\n",
       "2489     True\n",
       "Length: 4980, dtype: bool"
      ]
     },
     "execution_count": 10,
     "metadata": {},
     "output_type": "execute_result"
    }
   ],
   "source": [
    "predictions"
   ]
  },
  {
   "cell_type": "code",
   "execution_count": 12,
   "id": "12246a2a",
   "metadata": {},
   "outputs": [],
   "source": [
    "ece = torch.zeros(1)"
   ]
  },
  {
   "cell_type": "code",
   "execution_count": 14,
   "id": "b6ef0097",
   "metadata": {},
   "outputs": [
    {
     "data": {
      "text/plain": [
       "torch.Size([1])"
      ]
     },
     "execution_count": 14,
     "metadata": {},
     "output_type": "execute_result"
    }
   ],
   "source": [
    "ece.shape"
   ]
  },
  {
   "cell_type": "code",
   "execution_count": 15,
   "id": "45091b46",
   "metadata": {},
   "outputs": [
    {
     "name": "stdout",
     "output_type": "stream",
     "text": [
      "upper = 0.0, lowe=0.10000000149011612\n",
      "upper = 0.10000000149011612, lowe=0.20000000298023224\n",
      "upper = 0.20000000298023224, lowe=0.30000001192092896\n",
      "upper = 0.30000001192092896, lowe=0.4000000059604645\n",
      "upper = 0.4000000059604645, lowe=0.5\n",
      "upper = 0.5, lowe=0.6000000238418579\n",
      "upper = 0.6000000238418579, lowe=0.699999988079071\n",
      "upper = 0.699999988079071, lowe=0.800000011920929\n",
      "upper = 0.800000011920929, lowe=0.8999999761581421\n",
      "upper = 0.8999999761581421, lowe=1.0\n"
     ]
    }
   ],
   "source": [
    "bin_lowers = bin_boundaries[:-1]\n",
    "bin_uppers = bin_boundaries[1:]\n",
    "\n",
    "\n",
    "for bin_lower, bin_upper in zip(bin_lowers, bin_uppers):\n",
    "    print(f\"upper = {bin_lower.item()}, lowe={bin_upper.item()}\")\n",
    "#     in_bin = confidences.gt(bin_lower.item()) * confidences.le(bin_upper.item())\n",
    "#     prop_in_bin = in_bin.float().mean()"
   ]
  },
  {
   "cell_type": "code",
   "execution_count": 21,
   "id": "d6552316",
   "metadata": {},
   "outputs": [
    {
     "data": {
      "text/plain": [
       "0       False\n",
       "1       False\n",
       "2       False\n",
       "3       False\n",
       "4       False\n",
       "        ...  \n",
       "2485    False\n",
       "2486    False\n",
       "2487    False\n",
       "2488    False\n",
       "2489    False\n",
       "Length: 4980, dtype: bool"
      ]
     },
     "execution_count": 21,
     "metadata": {},
     "output_type": "execute_result"
    }
   ],
   "source": [
    "confidences.gt(bin_lower.item()) * confidences.le(bin_upper.item())"
   ]
  },
  {
   "cell_type": "code",
   "execution_count": 20,
   "id": "f5e7f2da",
   "metadata": {},
   "outputs": [
    {
     "data": {
      "text/plain": [
       "False    4577\n",
       "True      403\n",
       "dtype: int64"
      ]
     },
     "execution_count": 20,
     "metadata": {},
     "output_type": "execute_result"
    }
   ],
   "source": [
    "confidences.gt(0.8000000).value_counts()"
   ]
  },
  {
   "cell_type": "code",
   "execution_count": 27,
   "id": "cdacc67d",
   "metadata": {},
   "outputs": [
    {
     "name": "stdout",
     "output_type": "stream",
     "text": [
      "upper = 0.0, lowe=0.10000000149011612\n",
      "0.0\n",
      "upper = 0.10000000149011612, lowe=0.20000000298023224\n",
      "0.08092369477911647\n",
      "upper = 0.20000000298023224, lowe=0.30000001192092896\n",
      "0.060040160642570284\n",
      "upper = 0.30000001192092896, lowe=0.4000000059604645\n",
      "0.14698795180722893\n",
      "upper = 0.4000000059604645, lowe=0.5\n",
      "0.21204819277108433\n",
      "upper = 0.5, lowe=0.6000000238418579\n",
      "0.21204819277108433\n",
      "upper = 0.6000000238418579, lowe=0.699999988079071\n",
      "0.14698795180722893\n",
      "upper = 0.699999988079071, lowe=0.800000011920929\n",
      "0.060040160642570284\n",
      "upper = 0.800000011920929, lowe=0.8999999761581421\n",
      "0.08092369477911647\n",
      "upper = 0.8999999761581421, lowe=1.0\n",
      "0.0\n"
     ]
    }
   ],
   "source": [
    "\n",
    "for bin_lower, bin_upper in zip(bin_lowers, bin_uppers):\n",
    "    # Calculated |confidence - accuracy| in each bin\n",
    "    in_bin = confidences.gt(bin_lower.item()) * confidences.le(bin_upper.item())\n",
    "#     prop_in_bin = in_bin.float().mean()\n",
    "    prop_in_bin = in_bin.mean()\n",
    "    print(f\"upper = {bin_lower.item()}, lowe={bin_upper.item()}\")\n",
    "    print(prop_in_bin)\n",
    "    if prop_in_bin > 0:\n",
    "        accuracy_in_bin = accuracies[in_bin].mean()\n",
    "        avg_confidence_in_bin = confidences[in_bin].mean()\n",
    "        ece += np.abs(avg_confidence_in_bin - accuracy_in_bin) * prop_in_bin"
   ]
  },
  {
   "cell_type": "code",
   "execution_count": 28,
   "id": "0fc41a70",
   "metadata": {},
   "outputs": [
    {
     "data": {
      "text/plain": [
       "tensor([0.3442])"
      ]
     },
     "execution_count": 28,
     "metadata": {},
     "output_type": "execute_result"
    }
   ],
   "source": [
    "ece"
   ]
  },
  {
   "cell_type": "code",
   "execution_count": null,
   "id": "6b334f94",
   "metadata": {},
   "outputs": [],
   "source": []
  }
 ],
 "metadata": {
  "kernelspec": {
   "display_name": "Python 3",
   "language": "python",
   "name": "python3"
  },
  "language_info": {
   "codemirror_mode": {
    "name": "ipython",
    "version": 3
   },
   "file_extension": ".py",
   "mimetype": "text/x-python",
   "name": "python",
   "nbconvert_exporter": "python",
   "pygments_lexer": "ipython3",
   "version": "3.7.15"
  }
 },
 "nbformat": 4,
 "nbformat_minor": 5
}
